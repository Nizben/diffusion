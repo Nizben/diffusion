{
 "cells": [
  {
   "cell_type": "code",
   "execution_count": 3,
   "id": "7e15f8c7-106d-4700-a793-a7eb2eef6f3a",
   "metadata": {},
   "outputs": [],
   "source": [
    "import torch\n",
    "import torch.nn as nn\n",
    "import torch.nn.functional as F\n",
    "from torchvision import datasets, transforms\n",
    "from torch.utils.data import DataLoader\n",
    "import math"
   ]
  },
  {
   "cell_type": "code",
   "execution_count": 8,
   "id": "28ee81c6-390e-4d72-9fd8-bba42e9474bb",
   "metadata": {},
   "outputs": [
    {
     "name": "stdout",
     "output_type": "stream",
     "text": [
      "cpu\n"
     ]
    }
   ],
   "source": [
    "# Set device\n",
    "device = torch.device('cuda' if torch.cuda.is_available() else 'cpu')\n",
    "print(device)"
   ]
  },
  {
   "cell_type": "code",
   "execution_count": 9,
   "id": "99990826-4f61-426c-aa63-2ee21e4adb5b",
   "metadata": {},
   "outputs": [],
   "source": [
    "# Hyperparameters\n",
    "T = 300  # Total diffusion steps\n",
    "beta_start = 1e-4\n",
    "beta_end = 0.02\n",
    "batch_size = 128\n",
    "learning_rate = 2e-4\n",
    "epochs = 10"
   ]
  },
  {
   "cell_type": "code",
   "execution_count": 10,
   "id": "efaa4731-4dcf-4952-b415-9e5bd18f30f0",
   "metadata": {},
   "outputs": [],
   "source": [
    "class SimpleUnet(nn.Module):\n",
    "    def __init__(self, channels = 1):\n",
    "        super(SimpleUnet, self).__init__()\n",
    "        self.encoder1 = nn.Conv2d(channels, 64, kernel_size=3, padding=1)\n",
    "        self.encoder2 = nn.Conv2d(64, 128, kernel_size=3, padding=1)\n",
    "        self.bottleneck = nn.Conv2d(128, 128, kernel_size=3, padding=1)\n",
    "        self.decoder2 = nn.ConvTranspose2d(128, 64, kernel_size=3, padding=1)\n",
    "        self.decoder1 = nn.ConvTranspose2d(64, channels, kernel_size=3, padding=1)\n",
    "\n",
    "    def forward(self, x, t):\n",
    "        # For simplicity, we're not using timestep embedding\n",
    "        x1 = F.relu(self.encoder1(x))\n",
    "        x2 = F.relu(self.encoder2(x1))\n",
    "        x_b = F.relu(self.bottleneck(x2))\n",
    "        x_d2 = F.relu(self.decoder2(x_b))\n",
    "        x_d1 = self.decoder1(x_d2)\n",
    "        return x_d1"
   ]
  },
  {
   "cell_type": "code",
   "execution_count": null,
   "id": "5a38a3fd-6ec0-4244-9d32-a7197140cfcc",
   "metadata": {},
   "outputs": [],
   "source": []
  }
 ],
 "metadata": {
  "kernelspec": {
   "display_name": "Python 3 (ipykernel)",
   "language": "python",
   "name": "python3"
  },
  "language_info": {
   "codemirror_mode": {
    "name": "ipython",
    "version": 3
   },
   "file_extension": ".py",
   "mimetype": "text/x-python",
   "name": "python",
   "nbconvert_exporter": "python",
   "pygments_lexer": "ipython3",
   "version": "3.12.8"
  }
 },
 "nbformat": 4,
 "nbformat_minor": 5
}
